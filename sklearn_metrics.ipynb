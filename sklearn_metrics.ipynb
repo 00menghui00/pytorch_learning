{
 "cells": [
  {
   "cell_type": "code",
   "execution_count": null,
   "metadata": {
    "vscode": {
     "languageId": "plaintext"
    }
   },
   "outputs": [],
   "source": [
    "from sklearn.metrics import confusion_matrix,classification_report"
   ]
  },
  {
   "cell_type": "markdown",
   "metadata": {},
   "source": [
    "# sklearn.metrics 包含了一系列常用于评估机器学习模型性能的工具和指标\n",
    "\n",
    "## \n",
    "confusion_matrix 函数用于计算分类问题中的混淆矩阵。混淆矩阵是一个表格，用于描述分类模型在不同类别上的表现，显示了真实标签与预测标签之间的关系。\n",
    "\n",
    "混淆矩阵结构：\n",
    "True Positive (TP)：真实为正类，预测也为正类。\n",
    "True Negative (TN)：真实为负类，预测也为负类。\n",
    "False Positive (FP)：真实为负类，预测为正类。\n",
    "False Negative (FN)：真实为正类，预测为负类。\n",
    "通过这些值，可以计算出各种评估指标，如准确率、精确度、召回率等\n",
    "\n",
    "##\n",
    "classification_report 函数提供了包括准确率、精确度、召回率和 F1 分数等在内的多种常用评估指标的详细报告。"
   ]
  }
 ],
 "metadata": {
  "language_info": {
   "name": "python"
  }
 },
 "nbformat": 4,
 "nbformat_minor": 2
}

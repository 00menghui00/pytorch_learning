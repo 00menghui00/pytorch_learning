{
 "cells": [
  {
   "cell_type": "markdown",
   "metadata": {},
   "source": [
    "torch.autograd（自动微分）\n",
    "训练神经网络：后向（反向）传播算法：\n",
    "训练：不断调整参数使得预测与实际的误差越来越小"
   ]
  }
 ],
 "metadata": {
  "language_info": {
   "name": "python"
  }
 },
 "nbformat": 4,
 "nbformat_minor": 2
}

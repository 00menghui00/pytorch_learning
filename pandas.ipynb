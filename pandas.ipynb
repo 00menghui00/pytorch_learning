{
 "cells": [
  {
   "cell_type": "code",
   "execution_count": null,
   "metadata": {
    "vscode": {
     "languageId": "plaintext"
    }
   },
   "outputs": [],
   "source": [
    "data.index=pd.to_datetime(data['Date'])"
   ]
  },
  {
   "cell_type": "markdown",
   "metadata": {},
   "source": [
    "#### data.index\n",
    "data.index 是 pandas DataFrame 对象的一个属性，它表示 DataFrame 的索引。索引是 pandas DataFrame 和 Series 的重要组成部分，它类似于数据库表中的主键或行标签，用于唯一标识和访问数据。\n",
    "\n",
    "索引的作用：\n",
    "\n",
    "行标签： 索引为 DataFrame 的每一行提供了一个唯一的标签，使得可以通过标签快速访问和操作特定的行。\n",
    "数据对齐： 在进行数据操作（例如合并、连接）时，pandas 会根据索引自动对齐数据。\n",
    "时间序列： 当索引是 DatetimeIndex（日期时间索引）时，可以方便地进行时间序列分析和操作。\n",
    "data.index 的类型：\n",
    "\n",
    "data.index 的类型可以是多种，常见的有：\n",
    "\n",
    "RangeIndex： 默认索引，表示一个整数范围，从 0 开始递增。\n",
    "Int64Index： 整数索引。\n",
    "Float64Index： 浮点数索引。\n",
    "DatetimeIndex： 日期时间索引，用于时间序列数据。\n",
    "Index： 通用索引，可以包含各种类型的标签。\n",
    "\n",
    "\n",
    "#### pd.to_datetime()\n",
    "pd.to_datetime() 是 pandas 库中一个非常强大的函数，用于将各种不同的日期和时间表示形式转换为 pandas 的 Timestamp 对象（单个时间点），或者当应用于 Series 或 DataFrame 的一列时，转换为 DatetimeIndex（日期时间索引）。这是进行时间序列分析的基础步骤之一。\n",
    "\n",
    "pd.to_datetime() 的主要功能：\n",
    "\n",
    "解析多种日期/时间格式： 它可以自动识别并解析各种常见的日期和时间字符串格式，无需手动指定格式。\n",
    "处理不同类型的数据： 它可以处理字符串、整数（Unix 时间戳）、浮点数、Python 的 datetime.datetime 对象等多种类型的数据。\n",
    "创建 DatetimeIndex： 当应用于 pandas Series 或 DataFrame 的一列时，它会生成一个 DatetimeIndex，可以方便地用于时间序列操作。"
   ]
  },
  {
   "cell_type": "code",
   "execution_count": null,
   "metadata": {
    "vscode": {
     "languageId": "plaintext"
    }
   },
   "outputs": [],
   "source": [
    "data = data.drop(columns=['Date'])"
   ]
  },
  {
   "cell_type": "markdown",
   "metadata": {},
   "source": [
    "data = data.drop(columns=['Date']) 这行代码使用 pandas DataFrame 的 drop() 方法从 data 中删除名为 'Date' 的列。让我们详细解释这行代码：\n",
    "\n",
    "data: 这是一个 pandas DataFrame 对象，它存储了表格数据。\n",
    "data.drop(...): 这是 pandas DataFrame 的 drop() 方法，用于删除 DataFrame 中的行或列。\n",
    "columns=['Date']: 这是 drop() 方法的一个参数，用于指定要删除的列。在这里，columns 参数接收一个列表，列表中包含要删除的列名。因为我们只想删除 'Date' 这一列，所以列表只包含一个元素 'Date'。\n",
    "drop() 方法的其他常用参数：\n",
    "\n",
    "labels: 与 columns 或 index 参数一起使用，指定要删除的行或列的标签。\n",
    "axis: 指定删除的轴。axis=0 表示删除行（默认），axis=1 表示删除列。当使用 columns 参数时，axis 默认为 1，因此可以省略。\n",
    "index: 与 labels 参数一起使用，指定要删除的行索引。\n",
    "inplace: 一个布尔值，决定是否在原 DataFrame 上进行修改。\n",
    "inplace=False（默认）：drop() 方法会返回一个新的 DataFrame，其中不包含已删除的行或列。原始的 DataFrame data 不会被修改。\n",
    "inplace=True：drop() 方法会直接在原始的 DataFrame data 上进行修改，不会返回新的 DataFrame。在这种情况下，drop() 方法返回 None。"
   ]
  },
  {
   "cell_type": "code",
   "execution_count": null,
   "metadata": {
    "vscode": {
     "languageId": "plaintext"
    }
   },
   "outputs": [],
   "source": [
    "data['Change']=(data['Close'].diff()>0).astype(int) #类似于numpy中的布尔数组\n",
    "data=data.dropna()"
   ]
  },
  {
   "cell_type": "markdown",
   "metadata": {},
   "source": [
    "1. data['Change'] = (data['Close'].diff() > 0).astype(int)\n",
    "\n",
    "这行代码创建了一个名为 'Change' 的新列，用于表示每日的涨跌情况。\n",
    "\n",
    "data['Close']: 这部分选择了 DataFrame data 中名为 'Close' 的列，即收盘价数据。\n",
    ".diff(): 这是 pandas Series 的一个方法，用于计算序列中每个元素与其前一个元素之间的差值（即一阶差分）。例如，如果 'Close' 列的数据是 [100, 105, 110, 108]，那么 data['Close'].diff() 的结果将是 [NaN, 5, 5, -2]。第一个元素是 NaN，因为没有前一个元素可以比较。\n",
    "> 0: 这部分代码将差分结果与 0 进行比较。如果差值大于 0，则返回 True，否则返回 False。在上面的例子中，(data['Close'].diff() > 0) 的结果将是 [False, True, True, False]。\n",
    ".astype(int): 这部分代码将布尔值 True 和 False 转换为整数 1 和 0。True 转换为 1，False 转换为 0。在上面的例子中，(data['Close'].diff() > 0).astype(int) 的结果将是 [0, 1, 1, 0]。\n",
    "data['Change'] = ...: 这部分代码将计算得到的结果赋值给 DataFrame data 的新列 'Change'。\n",
    "因此，这行代码的整体作用是：计算每日收盘价的变化，如果今天的收盘价高于昨天的收盘价，则 'Change' 列的值为 1（表示涨），否则为 0（表示跌或平）。\n",
    "\n",
    "2. data = data.dropna()\n",
    "\n",
    "这行代码使用 pandas DataFrame 的 dropna() 方法删除包含任何缺失值（NaN）的行。\n",
    "\n",
    "data.dropna(): 这是 pandas DataFrame 的 dropna() 方法，用于删除包含缺失值的行或列。\n",
    "data = ...: 将 dropna() 方法返回的新 DataFrame 赋值给变量 data，从而替换原来的 data DataFrame。\n",
    "为什么需要 dropna()？\n",
    "\n",
    "在上面的第一行代码中，我们使用 diff() 方法计算收盘价的差分。由于第一个数据点没有前一个数据点可以比较，因此 diff() 方法会在结果的第一个位置产生一个 NaN 值。为了避免在后续的分析或建模中出现错误，我们需要使用 dropna() 方法删除包含这个 NaN 值的行。"
   ]
  },
  {
   "cell_type": "code",
   "execution_count": null,
   "metadata": {
    "vscode": {
     "languageId": "plaintext"
    }
   },
   "outputs": [],
   "source": [
    "data_features=data[features].values"
   ]
  },
  {
   "cell_type": "markdown",
   "metadata": {},
   "source": [
    ".values: 这是 DataFrame 对象的一个属性，它返回 DataFrame 中数据的 NumPy 数组表示。\n",
    "将这些列的数据转换为 NumPy 数组 data_features。这样做通常是为了将数据传递给机器学习模型进行训练或预测，因为大多数机器学习库（例如 scikit-learn）都接受 NumPy 数组作为输入。"
   ]
  }
 ],
 "metadata": {
  "language_info": {
   "name": "python"
  }
 },
 "nbformat": 4,
 "nbformat_minor": 2
}
